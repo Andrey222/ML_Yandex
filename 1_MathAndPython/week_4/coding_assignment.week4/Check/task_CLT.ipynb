{
 "cells": [
  {
   "cell_type": "markdown",
   "metadata": {},
   "source": [
    "# Центральная предельная теорема своими руками"
   ]
  },
  {
   "cell_type": "code",
   "execution_count": 163,
   "metadata": {
    "collapsed": true
   },
   "outputs": [],
   "source": [
    "import math\n",
    "import pandas as pd\n",
    "import numpy as np\n",
    "import matplotlib.pyplot as plt\n",
    "import scipy.stats as sts\n",
    "%matplotlib inline"
   ]
  },
  {
   "cell_type": "markdown",
   "metadata": {},
   "source": [
    "## I Бета-распределение: теоретические сведения"
   ]
  },
  {
   "cell_type": "markdown",
   "metadata": {},
   "source": [
    "Носитель: $ x \\in [0, 1] $ \n",
    "\n",
    "Плотность распределения вероятности:\n",
    "$ f(x) = \\cfrac{\\Gamma (a+b)\\ x^{a-1}\\ (1-x)^{b-1}}{\\Gamma(a)\\ \\Gamma(b)}$, где $\\Gamma(c)$ - гамма-функция Эйлера\n",
    "\n",
    "Математическое ожидание: $ EX = \\cfrac{a}{a + b}  $\n",
    "\n",
    "Дисперсия: $ DX = \\cfrac{a\\ b}{(a+b)^2\\ (a+b+1)}  $\n",
    "\n",
    "Ссылка на статью в Википедии: https://ru.wikipedia.org/wiki/Бета-распределение"
   ]
  },
  {
   "cell_type": "markdown",
   "metadata": {
    "collapsed": true
   },
   "source": [
    "## II Практическая часть: визуализация"
   ]
  },
  {
   "cell_type": "markdown",
   "metadata": {
    "collapsed": true
   },
   "source": [
    "Сразу зададим параметры нашего бета-распределения, посчитаем математическое ожидание и дисперсию."
   ]
  },
  {
   "cell_type": "code",
   "execution_count": 164,
   "metadata": {
    "collapsed": true
   },
   "outputs": [],
   "source": [
    "a = 2\n",
    "b = 5\n",
    "EX = float(a) / (a + b)\n",
    "DX = float(a) * b / ((a + b) * (a + b) * (a + b + 1))"
   ]
  },
  {
   "cell_type": "markdown",
   "metadata": {
    "collapsed": true
   },
   "source": [
    "Нарисуем на одном графике теоретическую плотность распределения и гистограмму, для выборки объема 1000."
   ]
  },
  {
   "cell_type": "code",
   "execution_count": 165,
   "metadata": {},
   "outputs": [
    {
     "data": {
      "image/png": "[encoded data removed]",
      "text/plain": [
       "<matplotlib.figure.Figure at 0xd368278>"
      ]
     },
     "metadata": {},
     "output_type": "display_data"
    }
   ],
   "source": [
    "# генерируем выборку объема n\n",
    "n = 1000\n",
    "beta_rv = sts.beta(a, b)\n",
    "sample = beta_rv.rvs(n)\n",
    "\n",
    "# рисуем теоретическую плотность распределения\n",
    "x_th = np.linspace(0, 1, 100)\n",
    "y_th = beta_rv.pdf(x_th)\n",
    "plt.plot(x_th, y_th, label='probability density function (pdf)', color='red')\n",
    "\n",
    "# добавляем гистограмму выборки\n",
    "plt.hist(sample, bins=50, normed=True, label='fraction of samples', alpha=0.3, color='purple')\n",
    "\n",
    "# настройки графика\n",
    "plt.legend()\n",
    "plt.ylabel('$f(x)$')\n",
    "plt.xlabel('$x$')\n",
    "\n",
    "plt.show()"
   ]
  },
  {
   "cell_type": "markdown",
   "metadata": {},
   "source": [
    "## III Практическая часть: оценка распределение выборочного при разных объёмах выборок"
   ]
  },
  {
   "cell_type": "markdown",
   "metadata": {},
   "source": [
    "Для получения выборочного среднего будем генерировать $k$ выборок заданного объема"
   ]
  },
  {
   "cell_type": "code",
   "execution_count": 166,
   "metadata": {
    "collapsed": true
   },
   "outputs": [],
   "source": [
    "k = 1000"
   ]
  },
  {
   "cell_type": "markdown",
   "metadata": {},
   "source": [
    "### 1. Выборка объема $n_1 = 3$"
   ]
  },
  {
   "cell_type": "code",
   "execution_count": 170,
   "metadata": {},
   "outputs": [
    {
     "data": {
      "image/png": "[encoded data removed]",
      "text/plain": [
       "<matplotlib.figure.Figure at 0xf927860>"
      ]
     },
     "metadata": {},
     "output_type": "display_data"
    }
   ],
   "source": [
    "n1 = 3\n",
    "\n",
    "# лист из средних значений\n",
    "mean = []\n",
    "\n",
    "for i in xrange(k):\n",
    "    beta_rv = sts.beta(a, b)\n",
    "    sample = beta_rv.rvs(n1)\n",
    "    \n",
    "    sample_mean = sum(sample) / float(len(sample))\n",
    "    mean.append(sample_mean)    \n",
    "\n",
    "# рисуем гистограмму выборки\n",
    "plt.hist(mean, bins=20, normed=True, label='sample means', alpha=0.3, color='steelblue')\n",
    "\n",
    "# добавляем соответствующую плотность нормального распределения\n",
    "norm_rv = sts.norm(loc=EX, scale=math.sqrt(DX/n1))\n",
    "x = np.linspace(0, 1, 100)\n",
    "y = norm_rv.pdf(x)\n",
    "plt.plot(x, y, label='CLT', color='navy')\n",
    "\n",
    "# настройки графика\n",
    "plt.legend()\n",
    "plt.ylabel('$f(x)$')\n",
    "plt.xlabel('$x$')\n",
    "\n",
    "plt.show()"
   ]
  },
  {
   "cell_type": "markdown",
   "metadata": {},
   "source": [
    "### 2. Выборка объема $n_2 = 10$"
   ]
  },
  {
   "cell_type": "code",
   "execution_count": 171,
   "metadata": {},
   "outputs": [
    {
     "data": {
      "image/png": "[encoded data removed]",
      "text/plain": [
       "<matplotlib.figure.Figure at 0x107fcf60>"
      ]
     },
     "metadata": {},
     "output_type": "display_data"
    }
   ],
   "source": [
    "n2 = 10\n",
    "\n",
    "# лист из средних значений\n",
    "mean = []\n",
    "\n",
    "for i in xrange(k):\n",
    "    beta_rv = sts.beta(a, b)\n",
    "    sample = beta_rv.rvs(n2)\n",
    "    \n",
    "    sample_mean = sum(sample) / float(len(sample))\n",
    "    mean.append(sample_mean)    \n",
    "\n",
    "# рисуем гистограмму выборки\n",
    "plt.hist(mean, bins=20, normed=True, label='sample means', alpha=0.3, color='peru')\n",
    "\n",
    "# добавляем соответствующую плотность нормального распределения\n",
    "norm_rv = sts.norm(loc=EX, scale=math.sqrt(DX/n2))\n",
    "x = np.linspace(0, 1, 100)\n",
    "y = norm_rv.pdf(x)\n",
    "plt.plot(x, y, label='CLT', color='darkorange')\n",
    "\n",
    "# настройки графика\n",
    "plt.legend()\n",
    "plt.ylabel('$f(x)$')\n",
    "plt.xlabel('$x$')\n",
    "\n",
    "plt.show()"
   ]
  },
  {
   "cell_type": "markdown",
   "metadata": {},
   "source": [
    "### 3. Выборка объема $n_3 = 50$"
   ]
  },
  {
   "cell_type": "code",
   "execution_count": 172,
   "metadata": {},
   "outputs": [
    {
     "data": {
      "image/png": "[encoded data removed]",
      "text/plain": [
       "<matplotlib.figure.Figure at 0xf7b7be0>"
      ]
     },
     "metadata": {},
     "output_type": "display_data"
    }
   ],
   "source": [
    "n3 = 50\n",
    "\n",
    "# лист из средних значений\n",
    "mean = []\n",
    "\n",
    "for i in xrange(k):\n",
    "    beta_rv = sts.beta(a, b)\n",
    "    sample = beta_rv.rvs(n3)\n",
    "    \n",
    "    sample_mean = sum(sample) / float(len(sample))\n",
    "    mean.append(sample_mean)    \n",
    "\n",
    "# рисуем гистограмму выборки\n",
    "plt.hist(mean, bins=20, normed=True, label='sample means', alpha=0.3, color='yellowgreen')\n",
    "\n",
    "# добавляем соответствующую плотность нормального распределения\n",
    "norm_rv = sts.norm(loc=EX, scale=math.sqrt(DX/n3))\n",
    "x = np.linspace(0, 1, 100)\n",
    "y = norm_rv.pdf(x)\n",
    "plt.plot(x, y, label='CLT', color='green')\n",
    "\n",
    "# настройки графика\n",
    "plt.legend()\n",
    "plt.ylabel('$f(x)$')\n",
    "plt.xlabel('$x$')\n",
    "\n",
    "plt.show()"
   ]
  },
  {
   "cell_type": "markdown",
   "metadata": {},
   "source": [
    "## IV Выводы"
   ]
  },
  {
   "cell_type": "markdown",
   "metadata": {},
   "source": [
    "Таким образом, мы видим, что с ростом $n$ распределение выборочных средних случайной величины стремится к нормальному $N(EX, \\cfrac{DX}{N})$, где $EX$ и $DX$ - математическое ожидание и дисперсия исходной случайной величины"
   ]
  }
 ],
 "metadata": {
  "kernelspec": {
   "display_name": "Python 2",
   "language": "python",
   "name": "python2"
  },
  "language_info": {
   "codemirror_mode": {
    "name": "ipython",
    "version": 2
   },
   "file_extension": ".py",
   "mimetype": "text/x-python",
   "name": "python",
   "nbconvert_exporter": "python",
   "pygments_lexer": "ipython2",
   "version": "2.7.13"
  }
 },
 "nbformat": 4,
 "nbformat_minor": 2
}
