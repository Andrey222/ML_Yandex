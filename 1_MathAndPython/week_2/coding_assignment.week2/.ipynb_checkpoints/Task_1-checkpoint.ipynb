{
 "cells": [
  {
   "cell_type": "code",
   "execution_count": 2,
   "metadata": {
    "collapsed": true
   },
   "outputs": [],
   "source": [
    "import pandas as pd\n",
    "import re\n",
    "import numpy as np\n",
    "import scipy.spatial as sptl"
   ]
  },
  {
   "cell_type": "code",
   "execution_count": 27,
   "metadata": {},
   "outputs": [],
   "source": [
    "#Create data.frame from csv file\n",
    "frame = pd.read_table('_sentences.txt', header = None)[0]"
   ]
  },
  {
   "cell_type": "code",
   "execution_count": 38,
   "metadata": {},
   "outputs": [],
   "source": [
    "textList = re.split('[^a-z]', ' '.join(frame).lower())\n",
    "textList = filter(lambda a: a != '', textList)\n",
    "setText = set()\n",
    "for i in textList:\n",
    "    setText.add(i)\n",
    "dictText = dict(zip(setText, range(len(setText))))"
   ]
  },
  {
   "cell_type": "code",
   "execution_count": 45,
   "metadata": {
    "collapsed": true
   },
   "outputs": [],
   "source": [
    "tokenCount = np.zeros((len(frame), len(dictText)))\n",
    "\n",
    "for i in range(len(frame)):\n",
    "    tokens = re.split('[^a-z]', frame[i].lower())\n",
    "    setTokens = set(tokens)\n",
    "    for j in setTokens:\n",
    "        if j != '':\n",
    "            tokenCount[i,dictText[j]] = tokens.count(j)"
   ]
  },
  {
   "cell_type": "code",
   "execution_count": 46,
   "metadata": {},
   "outputs": [
    {
     "name": "stdout",
     "output_type": "stream",
     "text": [
      "[[ 6.          0.73273876]\n",
      " [ 4.          0.77708871]]\n"
     ]
    }
   ],
   "source": [
    "for i in range(1,len(frame)):\n",
    "    dist = sptl.distance.cosine(tokenCount[0],tokenCount[i])\n",
    "    if i == 1:\n",
    "        minDist = np.zeros((2, 2))\n",
    "        minDist[:,0] = [1]*2\n",
    "        minDist[:,1] = [dist]*2\n",
    "    elif dist < minDist[1,1]:\n",
    "        if dist < minDist[0,1]:\n",
    "            minDist[1] = minDist[0]\n",
    "            minDist[0,0] = i\n",
    "            minDist[0,1] = dist\n",
    "        else:\n",
    "            minDist[1,0] = i\n",
    "            minDist[1,1] = dist\n",
    "print minDist"
   ]
  },
  {
   "cell_type": "code",
   "execution_count": 44,
   "metadata": {},
   "outputs": [
    {
     "name": "stdout",
     "output_type": "stream",
     "text": [
      "0.0\n",
      "0.952754440874\n",
      "0.864473814564\n",
      "0.895171516328\n",
      "0.77708871497\n",
      "0.940238569533\n",
      "0.732738758088\n",
      "0.925875068334\n",
      "0.884272487528\n",
      "0.905508881748\n",
      "0.832816536227\n",
      "0.880477139067\n",
      "0.839643254853\n",
      "0.87035925529\n",
      "0.87401184233\n",
      "0.944272178742\n",
      "0.840636185422\n",
      "0.956644501524\n",
      "0.944272178742\n",
      "0.888544357485\n",
      "0.842757274492\n",
      "0.825036446944\n"
     ]
    }
   ],
   "source": [
    "check = list()\n",
    "for i in range(0,len(frame)):\n",
    "    print sptl.distance.cosine(tokenCount[0],tokenCount[i])"
   ]
  },
  {
   "cell_type": "code",
   "execution_count": 47,
   "metadata": {},
   "outputs": [
    {
     "name": "stdout",
     "output_type": "stream",
     "text": [
      "In comparison to dogs, cats have not undergone major changes during the domestication process.\n",
      "Domestic cats are similar in size to the other members of the genus Felis, typically weighing between 4 and 5 kg (8.8 and 11.0 lb).\n",
      "In one, people deliberately tamed cats in a process of artificial selection, as they were useful predators of vermin.\n"
     ]
    }
   ],
   "source": [
    "print frame[0]\n",
    "print frame[6]\n",
    "print frame[4]"
   ]
  },
  {
   "cell_type": "code",
   "execution_count": 15,
   "metadata": {},
   "outputs": [
    {
     "data": {
      "text/plain": [
       "array([ 8, 11])"
      ]
     },
     "execution_count": 15,
     "metadata": {},
     "output_type": "execute_result"
    }
   ],
   "source": [
    "minDist[:, 0].T.astype(int)"
   ]
  },
  {
   "cell_type": "code",
   "execution_count": 16,
   "metadata": {
    "collapsed": true
   },
   "outputs": [],
   "source": [
    "with open(\"Task1.txt\", \"w\") as text_file:\n",
    "    text_file.write(str(minDist[:, 0].T.astype(int)))"
   ]
  }
 ],
 "metadata": {
  "kernelspec": {
   "display_name": "Python 2",
   "language": "python",
   "name": "python2"
  },
  "language_info": {
   "codemirror_mode": {
    "name": "ipython",
    "version": 2
   },
   "file_extension": ".py",
   "mimetype": "text/x-python",
   "name": "python",
   "nbconvert_exporter": "python",
   "pygments_lexer": "ipython2",
   "version": "2.7.13"
  }
 },
 "nbformat": 4,
 "nbformat_minor": 2
}
